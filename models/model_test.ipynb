{
 "cells": [
  {
   "cell_type": "code",
   "execution_count": null,
   "id": "1ed1022b",
   "metadata": {},
   "outputs": [
    {
     "ename": "ModuleNotFoundError",
     "evalue": "No module named 'loader'",
     "output_type": "error",
     "traceback": [
      "\u001b[31m---------------------------------------------------------------------------\u001b[39m",
      "\u001b[31mModuleNotFoundError\u001b[39m                       Traceback (most recent call last)",
      "\u001b[36mCell\u001b[39m\u001b[36m \u001b[39m\u001b[32mIn[17]\u001b[39m\u001b[32m, line 5\u001b[39m\n\u001b[32m      3\u001b[39m \u001b[38;5;28;01mimport\u001b[39;00m\u001b[38;5;250m \u001b[39m\u001b[34;01msys\u001b[39;00m\n\u001b[32m      4\u001b[39m \u001b[38;5;28;01mimport\u001b[39;00m\u001b[38;5;250m \u001b[39m\u001b[34;01mpandas\u001b[39;00m\u001b[38;5;250m \u001b[39m\u001b[38;5;28;01mas\u001b[39;00m\u001b[38;5;250m \u001b[39m\u001b[34;01mpd\u001b[39;00m\n\u001b[32m----> \u001b[39m\u001b[32m5\u001b[39m \u001b[38;5;28;01mfrom\u001b[39;00m\u001b[38;5;250m \u001b[39m\u001b[34;01mloader\u001b[39;00m\u001b[38;5;250m \u001b[39m\u001b[38;5;28;01mimport\u001b[39;00m load_telemetry\n",
      "\u001b[31mModuleNotFoundError\u001b[39m: No module named 'loader'"
     ]
    }
   ],
   "source": [
    "import fastf1\n",
    "import os\n",
    "import sys\n",
    "import pandas as pd"
   ]
  },
  {
   "cell_type": "code",
   "execution_count": 16,
   "id": "053257c1",
   "metadata": {},
   "outputs": [
    {
     "name": "stdout",
     "output_type": "stream",
     "text": [
      "Dataset shape: (19507, 15)\n",
      "\n",
      "Columns in the dataset:\n",
      "['Track', 'Driver', 'Compound', 'TyreLife', 'StartFuel', 'FCL', 'LapTime', 'SpeedI1', 'SpeedI2', 'SpeedFL', 'SumLonAcc', 'SumLatAcc', 'MeanLapSpeed', 'LonDistanceDTW', 'LatDistanceDTW']\n",
      "\n",
      "First few rows:\n"
     ]
    },
    {
     "data": {
      "text/html": [
       "<div>\n",
       "<style scoped>\n",
       "    .dataframe tbody tr th:only-of-type {\n",
       "        vertical-align: middle;\n",
       "    }\n",
       "\n",
       "    .dataframe tbody tr th {\n",
       "        vertical-align: top;\n",
       "    }\n",
       "\n",
       "    .dataframe thead th {\n",
       "        text-align: right;\n",
       "    }\n",
       "</style>\n",
       "<table border=\"1\" class=\"dataframe\">\n",
       "  <thead>\n",
       "    <tr style=\"text-align: right;\">\n",
       "      <th></th>\n",
       "      <th>Track</th>\n",
       "      <th>Driver</th>\n",
       "      <th>Compound</th>\n",
       "      <th>TyreLife</th>\n",
       "      <th>StartFuel</th>\n",
       "      <th>FCL</th>\n",
       "      <th>LapTime</th>\n",
       "      <th>SpeedI1</th>\n",
       "      <th>SpeedI2</th>\n",
       "      <th>SpeedFL</th>\n",
       "      <th>SumLonAcc</th>\n",
       "      <th>SumLatAcc</th>\n",
       "      <th>MeanLapSpeed</th>\n",
       "      <th>LonDistanceDTW</th>\n",
       "      <th>LatDistanceDTW</th>\n",
       "    </tr>\n",
       "  </thead>\n",
       "  <tbody>\n",
       "    <tr>\n",
       "      <th>0</th>\n",
       "      <td>Bahrain</td>\n",
       "      <td>VER</td>\n",
       "      <td>SOFT</td>\n",
       "      <td>4.0</td>\n",
       "      <td>100.000000</td>\n",
       "      <td>96.019000</td>\n",
       "      <td>0 days 00:01:39.019000</td>\n",
       "      <td>232.0</td>\n",
       "      <td>231.0</td>\n",
       "      <td>278.0</td>\n",
       "      <td>561.07970</td>\n",
       "      <td>840.76762</td>\n",
       "      <td>185.815557</td>\n",
       "      <td>12.072970</td>\n",
       "      <td>16.422290</td>\n",
       "    </tr>\n",
       "    <tr>\n",
       "      <th>1</th>\n",
       "      <td>Bahrain</td>\n",
       "      <td>VER</td>\n",
       "      <td>SOFT</td>\n",
       "      <td>5.0</td>\n",
       "      <td>98.232143</td>\n",
       "      <td>95.000517</td>\n",
       "      <td>0 days 00:01:37.974000</td>\n",
       "      <td>227.0</td>\n",
       "      <td>238.0</td>\n",
       "      <td>278.0</td>\n",
       "      <td>515.23100</td>\n",
       "      <td>855.49170</td>\n",
       "      <td>196.531157</td>\n",
       "      <td>11.740397</td>\n",
       "      <td>17.690049</td>\n",
       "    </tr>\n",
       "    <tr>\n",
       "      <th>2</th>\n",
       "      <td>Bahrain</td>\n",
       "      <td>VER</td>\n",
       "      <td>SOFT</td>\n",
       "      <td>7.0</td>\n",
       "      <td>94.696429</td>\n",
       "      <td>95.108589</td>\n",
       "      <td>0 days 00:01:37.976000</td>\n",
       "      <td>228.0</td>\n",
       "      <td>238.0</td>\n",
       "      <td>278.0</td>\n",
       "      <td>512.35496</td>\n",
       "      <td>853.49005</td>\n",
       "      <td>197.711395</td>\n",
       "      <td>11.392580</td>\n",
       "      <td>17.845079</td>\n",
       "    </tr>\n",
       "    <tr>\n",
       "      <th>3</th>\n",
       "      <td>Bahrain</td>\n",
       "      <td>VER</td>\n",
       "      <td>SOFT</td>\n",
       "      <td>9.0</td>\n",
       "      <td>91.160714</td>\n",
       "      <td>95.224660</td>\n",
       "      <td>0 days 00:01:37.986000</td>\n",
       "      <td>229.0</td>\n",
       "      <td>239.0</td>\n",
       "      <td>279.0</td>\n",
       "      <td>506.39443</td>\n",
       "      <td>798.17038</td>\n",
       "      <td>197.696016</td>\n",
       "      <td>11.075037</td>\n",
       "      <td>15.948652</td>\n",
       "    </tr>\n",
       "    <tr>\n",
       "      <th>4</th>\n",
       "      <td>Bahrain</td>\n",
       "      <td>VER</td>\n",
       "      <td>SOFT</td>\n",
       "      <td>10.0</td>\n",
       "      <td>89.392857</td>\n",
       "      <td>95.312696</td>\n",
       "      <td>0 days 00:01:38.021000</td>\n",
       "      <td>230.0</td>\n",
       "      <td>239.0</td>\n",
       "      <td>279.0</td>\n",
       "      <td>503.46019</td>\n",
       "      <td>818.31458</td>\n",
       "      <td>197.638955</td>\n",
       "      <td>11.201066</td>\n",
       "      <td>16.233708</td>\n",
       "    </tr>\n",
       "  </tbody>\n",
       "</table>\n",
       "</div>"
      ],
      "text/plain": [
       "     Track Driver Compound  TyreLife   StartFuel        FCL  \\\n",
       "0  Bahrain    VER     SOFT       4.0  100.000000  96.019000   \n",
       "1  Bahrain    VER     SOFT       5.0   98.232143  95.000517   \n",
       "2  Bahrain    VER     SOFT       7.0   94.696429  95.108589   \n",
       "3  Bahrain    VER     SOFT       9.0   91.160714  95.224660   \n",
       "4  Bahrain    VER     SOFT      10.0   89.392857  95.312696   \n",
       "\n",
       "                 LapTime  SpeedI1  SpeedI2  SpeedFL  SumLonAcc  SumLatAcc  \\\n",
       "0 0 days 00:01:39.019000    232.0    231.0    278.0  561.07970  840.76762   \n",
       "1 0 days 00:01:37.974000    227.0    238.0    278.0  515.23100  855.49170   \n",
       "2 0 days 00:01:37.976000    228.0    238.0    278.0  512.35496  853.49005   \n",
       "3 0 days 00:01:37.986000    229.0    239.0    279.0  506.39443  798.17038   \n",
       "4 0 days 00:01:38.021000    230.0    239.0    279.0  503.46019  818.31458   \n",
       "\n",
       "   MeanLapSpeed  LonDistanceDTW  LatDistanceDTW  \n",
       "0    185.815557       12.072970       16.422290  \n",
       "1    196.531157       11.740397       17.690049  \n",
       "2    197.711395       11.392580       17.845079  \n",
       "3    197.696016       11.075037       15.948652  \n",
       "4    197.638955       11.201066       16.233708  "
      ]
     },
     "execution_count": 16,
     "metadata": {},
     "output_type": "execute_result"
    }
   ],
   "source": [
    "# Load season dataset\n",
    "season_df = pd.read_pickle('../season_full_dataset.pkl')\n",
    "\n",
    "# Show basic information about the dataset\n",
    "print(\"Dataset shape:\", season_df.shape)\n",
    "print(\"\\nColumns in the dataset:\")\n",
    "print(season_df.columns.tolist())\n",
    "print(\"\\nFirst few rows:\")\n",
    "season_df.head()"
   ]
  },
  {
   "cell_type": "code",
   "execution_count": 14,
   "id": "0f4d7493",
   "metadata": {},
   "outputs": [
    {
     "name": "stdout",
     "output_type": "stream",
     "text": [
      "['Bahrain' 'Saudi Arabia' 'Australia' 'Azerbaijan' 'Miami' 'Monaco'\n",
      " 'Spain' 'Canada' 'Austria' 'Great Britain' 'Hungary' 'Belgium'\n",
      " 'Netherlands' 'Italy' 'Singapore' 'Japan' 'Qatar' 'Mexico' 'Brazil'\n",
      " 'Las Vegas' 'Abu Dhabi']\n"
     ]
    }
   ],
   "source": [
    "print(season_df['Track'].unique())"
   ]
  }
 ],
 "metadata": {
  "colab": {
   "provenance": [],
   "toc_visible": true
  },
  "kernelspec": {
   "display_name": "Python 3",
   "language": "python",
   "name": "python3"
  },
  "language_info": {
   "codemirror_mode": {
    "name": "ipython",
    "version": 3
   },
   "file_extension": ".py",
   "mimetype": "text/x-python",
   "name": "python",
   "nbconvert_exporter": "python",
   "pygments_lexer": "ipython3",
   "version": "3.11.9"
  }
 },
 "nbformat": 4,
 "nbformat_minor": 5
}
