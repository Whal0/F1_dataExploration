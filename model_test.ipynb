{
 "cells": [
  {
   "cell_type": "code",
   "execution_count": 2,
   "id": "1ed1022b",
   "metadata": {},
   "outputs": [],
   "source": [
    "import fastf1\n",
    "import os\n",
    "import sys\n",
    "import pandas as pd\n",
    "from loader import load_telemetry"
   ]
  },
  {
   "cell_type": "code",
   "execution_count": 2,
   "id": "a9c9b4b9",
   "metadata": {},
   "outputs": [
    {
     "name": "stderr",
     "output_type": "stream",
     "text": [
      "core           INFO \tLoading data for Australian Grand Prix - Race [v3.5.3]\n",
      "req            INFO \tUsing cached data for session_info\n",
      "req            INFO \tUsing cached data for driver_info\n",
      "req            INFO \tUsing cached data for session_status_data\n",
      "req            INFO \tUsing cached data for lap_count\n",
      "req            INFO \tUsing cached data for track_status_data\n",
      "req            INFO \tUsing cached data for _extended_timing_data\n",
      "req            INFO \tUsing cached data for timing_app_data\n",
      "core           INFO \tProcessing timing data...\n",
      "req            INFO \tUsing cached data for car_data\n",
      "req            INFO \tUsing cached data for position_data\n",
      "req            INFO \tUsing cached data for weather_data\n",
      "req            INFO \tUsing cached data for race_control_messages\n",
      "core           INFO \tFinished loading data for 20 drivers: ['1', '44', '14', '18', '11', '4', '27', '81', '24', '22', '77', '55', '10', '31', '21', '2', '20', '63', '23', '16']\n"
     ]
    }
   ],
   "source": [
    "fastf1.Cache.enable_cache('cache')\n",
    "race_session = fastf1.get_session(2023, \"Australia\", 'R')\n",
    "race_session.load()"
   ]
  },
  {
   "cell_type": "code",
   "execution_count": 3,
   "id": "032bf648",
   "metadata": {},
   "outputs": [
    {
     "name": "stderr",
     "output_type": "stream",
     "text": [
      "core           INFO \tLoading data for Australian Grand Prix - Qualifying [v3.5.3]\n",
      "req            INFO \tUsing cached data for session_info\n",
      "req            INFO \tUsing cached data for driver_info\n"
     ]
    },
    {
     "name": "stderr",
     "output_type": "stream",
     "text": [
      "req            INFO \tUsing cached data for session_status_data\n",
      "req            INFO \tUsing cached data for track_status_data\n",
      "req            INFO \tUsing cached data for _extended_timing_data\n",
      "req            INFO \tUsing cached data for timing_app_data\n",
      "core           INFO \tProcessing timing data...\n",
      "req            INFO \tUsing cached data for car_data\n",
      "req            INFO \tUsing cached data for position_data\n",
      "req            INFO \tNo cached data found for weather_data. Loading data...\n",
      "_api           INFO \tFetching weather data...\n",
      "req            INFO \tData has been written to cache!\n",
      "req            INFO \tNo cached data found for race_control_messages. Loading data...\n",
      "_api           INFO \tFetching race control messages...\n",
      "req            INFO \tData has been written to cache!\n",
      "core           INFO \tFinished loading data for 20 drivers: ['1', '63', '44', '14', '55', '18', '16', '23', '10', '27', '31', '22', '4', '20', '21', '81', '24', '2', '77', '11']\n"
     ]
    }
   ],
   "source": [
    "quali_session = fastf1.get_session(2023, \"Australia\", 'Q')\n",
    "quali_session.load()"
   ]
  },
  {
   "cell_type": "code",
   "execution_count": 4,
   "id": "9f29bd73",
   "metadata": {},
   "outputs": [
    {
     "name": "stdout",
     "output_type": "stream",
     "text": [
      "Race session loaded: Race\n",
      "Qualifying session loaded: Qualifying\n"
     ]
    }
   ],
   "source": [
    "print(f\"Race session loaded: {race_session.name}\")\n",
    "print(f\"Qualifying session loaded: {quali_session.name}\")"
   ]
  },
  {
   "cell_type": "code",
   "execution_count": 6,
   "id": "24e3e443",
   "metadata": {},
   "outputs": [],
   "source": [
    "tel_df = load_telemetry('./data_telemetry/Australia.pkl')"
   ]
  },
  {
   "cell_type": "code",
   "execution_count": 11,
   "id": "8f00481a",
   "metadata": {},
   "outputs": [],
   "source": [
    "test = quali_session.laps\n",
    "test_r = race_session.laps"
   ]
  },
  {
   "cell_type": "code",
   "execution_count": 13,
   "id": "da65e29c",
   "metadata": {},
   "outputs": [
    {
     "name": "stdout",
     "output_type": "stream",
     "text": [
      "1\n",
      "got it 1\n",
      "63\n",
      "got it 2\n",
      "44\n",
      "got it 3\n",
      "14\n",
      "got it 4\n",
      "55\n",
      "got it 5\n",
      "18\n",
      "got it 6\n",
      "16\n",
      "got it 7\n",
      "23\n",
      "got it 8\n",
      "10\n",
      "got it 9\n",
      "27\n",
      "got it 10\n",
      "31\n",
      "got it 11\n",
      "22\n",
      "got it 12\n",
      "4\n",
      "got it 13\n",
      "20\n",
      "got it 14\n",
      "21\n",
      "got it 15\n",
      "81\n",
      "got it 16\n",
      "24\n",
      "got it 17\n",
      "2\n",
      "got it 18\n",
      "77\n",
      "got it 19\n",
      "11\n",
      "got it 20\n"
     ]
    }
   ],
   "source": [
    "i = 1\n",
    "for driver in test['DriverNumber'].unique():\n",
    "        print(driver)\n",
    "        driver_laps = quali_session.laps.pick_drivers(driver)\n",
    "        fastest_lap = driver_laps.pick_fastest()\n",
    "        \n",
    "        \n",
    "        if fastest_lap is None and not driver_laps.empty:\n",
    "            fastest_lap = race_session.laps.pick_drivers(driver).pick_fastest()\n",
    "        \n",
    "        if fastest_lap is not None:\n",
    "            print(\"got it\", i)\n",
    "            i +=1"
   ]
  },
  {
   "cell_type": "code",
   "execution_count": null,
   "id": "9b0a03c0",
   "metadata": {},
   "outputs": [],
   "source": []
  },
  {
   "cell_type": "code",
   "execution_count": 3,
   "id": "3c70e914",
   "metadata": {},
   "outputs": [
    {
     "name": "stdout",
     "output_type": "stream",
     "text": [
      "Dataset shape: (19507, 15)\n",
      "\n",
      "First few rows:\n",
      "     Track Driver Compound  TyreLife   StartFuel        FCL  \\\n",
      "0  Bahrain    VER     SOFT       4.0  100.000000  96.019000   \n",
      "1  Bahrain    VER     SOFT       5.0   98.232143  95.000517   \n",
      "2  Bahrain    VER     SOFT       7.0   94.696429  95.108589   \n",
      "3  Bahrain    VER     SOFT       9.0   91.160714  95.224660   \n",
      "4  Bahrain    VER     SOFT      10.0   89.392857  95.312696   \n",
      "\n",
      "                 LapTime  SpeedI1  SpeedI2  SpeedFL  SumLonAcc  SumLatAcc  \\\n",
      "0 0 days 00:01:39.019000    232.0    231.0    278.0  561.07970  840.76762   \n",
      "1 0 days 00:01:37.974000    227.0    238.0    278.0  515.23100  855.49170   \n",
      "2 0 days 00:01:37.976000    228.0    238.0    278.0  512.35496  853.49005   \n",
      "3 0 days 00:01:37.986000    229.0    239.0    279.0  506.39443  798.17038   \n",
      "4 0 days 00:01:38.021000    230.0    239.0    279.0  503.46019  818.31458   \n",
      "\n",
      "   MeanLapSpeed  LonDistanceDTW  LatDistanceDTW  \n",
      "0    185.815557       12.072970       16.422290  \n",
      "1    196.531157       11.740397       17.690049  \n",
      "2    197.711395       11.392580       17.845079  \n",
      "3    197.696016       11.075037       15.948652  \n",
      "4    197.638955       11.201066       16.233708  \n",
      "\n",
      "Columns in the dataset:\n",
      "['Track', 'Driver', 'Compound', 'TyreLife', 'StartFuel', 'FCL', 'LapTime', 'SpeedI1', 'SpeedI2', 'SpeedFL', 'SumLonAcc', 'SumLatAcc', 'MeanLapSpeed', 'LonDistanceDTW', 'LatDistanceDTW']\n"
     ]
    }
   ],
   "source": [
    "# Load the season dataset from pickle file\n",
    "season_df = pd.read_pickle('season_full.pkl')\n",
    "\n",
    "# Display basic information about the dataset\n",
    "print(\"Dataset shape:\", season_df.shape)\n",
    "print(\"\\nFirst few rows:\")\n",
    "print(season_df.head())\n",
    "\n",
    "print(\"\\nColumns in the dataset:\")\n",
    "print(season_df.columns.tolist())"
   ]
  },
  {
   "cell_type": "code",
   "execution_count": null,
   "id": "b0cbdf57",
   "metadata": {},
   "outputs": [],
   "source": []
  }
 ],
 "metadata": {
  "colab": {
   "provenance": [],
   "toc_visible": true
  },
  "kernelspec": {
   "display_name": "Python 3",
   "language": "python",
   "name": "python3"
  },
  "language_info": {
   "codemirror_mode": {
    "name": "ipython",
    "version": 3
   },
   "file_extension": ".py",
   "mimetype": "text/x-python",
   "name": "python",
   "nbconvert_exporter": "python",
   "pygments_lexer": "ipython3",
   "version": "3.11.9"
  }
 },
 "nbformat": 4,
 "nbformat_minor": 5
}
