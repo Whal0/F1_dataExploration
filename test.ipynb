{
 "cells": [
  {
   "cell_type": "code",
   "execution_count": 1,
   "id": "bccd129e",
   "metadata": {},
   "outputs": [
    {
     "name": "stderr",
     "output_type": "stream",
     "text": [
      "req         WARNING \tDEFAULT CACHE ENABLED! (103.02 MB) C:\\Users\\Patryk\\AppData\\Local\\Temp\\fastf1\n",
      "core           INFO \tLoading data for Bahrain Grand Prix - Race [v3.5.3]\n",
      "req            INFO \tUsing cached data for session_info\n",
      "req            INFO \tUsing cached data for driver_info\n",
      "req            INFO \tUsing cached data for session_status_data\n",
      "req            INFO \tUsing cached data for lap_count\n",
      "req            INFO \tUsing cached data for track_status_data\n",
      "req            INFO \tUsing cached data for _extended_timing_data\n",
      "req            INFO \tUsing cached data for timing_app_data\n",
      "core           INFO \tProcessing timing data...\n",
      "req            INFO \tUsing cached data for car_data\n",
      "req            INFO \tUsing cached data for position_data\n",
      "req            INFO \tUsing cached data for weather_data\n",
      "req            INFO \tUsing cached data for race_control_messages\n",
      "core           INFO \tFinished loading data for 20 drivers: ['1', '11', '14', '55', '44', '18', '63', '77', '10', '23', '22', '2', '20', '21', '27', '24', '4', '31', '16', '81']\n"
     ]
    }
   ],
   "source": [
    "import fastf1\n",
    "from telemetry_data_preprocessing import telemetry_computations\n",
    "\n",
    "session = fastf1.get_session(2023, 'Bahrain', 'R')\n",
    "session.load()"
   ]
  },
  {
   "cell_type": "code",
   "execution_count": 4,
   "id": "37fdc2ab",
   "metadata": {},
   "outputs": [
    {
     "data": {
      "text/plain": [
       "Date_x            datetime64[ns]\n",
       "RPM                      float64\n",
       "Speed                    float64\n",
       "nGear                      int64\n",
       "Throttle                 float64\n",
       "Brake                       bool\n",
       "DRS                        int64\n",
       "Source_x                  object\n",
       "Time             timedelta64[ns]\n",
       "SessionTime_x    timedelta64[ns]\n",
       "Distance                 float64\n",
       "Date_y            datetime64[ns]\n",
       "Status                    object\n",
       "X                        float64\n",
       "Y                        float64\n",
       "Z                        float64\n",
       "Source_y                  object\n",
       "SessionTime_y    timedelta64[ns]\n",
       "dtype: object"
      ]
     },
     "execution_count": 4,
     "metadata": {},
     "output_type": "execute_result"
    }
   ],
   "source": [
    "telemetry = session.car_data['1']\n",
    "telemetry = telemetry.add_distance()\n",
    "\n",
    "pos_data = session.pos_data['1'] \n",
    "telemetry = telemetry.merge(pos_data, on='Time', how='left') \n",
    "telemetry.dropna(inplace=True)\n",
    "telemetry.dtypes\n",
    "\n",
    "#lon, lat = telemetry_computations().compute_accelerations(telemetry=telemetry)"
   ]
  }
 ],
 "metadata": {
  "kernelspec": {
   "display_name": "f1proj",
   "language": "python",
   "name": "python3"
  },
  "language_info": {
   "codemirror_mode": {
    "name": "ipython",
    "version": 3
   },
   "file_extension": ".py",
   "mimetype": "text/x-python",
   "name": "python",
   "nbconvert_exporter": "python",
   "pygments_lexer": "ipython3",
   "version": "3.13.3"
  }
 },
 "nbformat": 4,
 "nbformat_minor": 5
}
